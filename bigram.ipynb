{
 "cells": [
  {
   "cell_type": "code",
   "execution_count": 1,
   "id": "b235bb5b-a9ac-4341-beba-c3f160fb0912",
   "metadata": {},
   "outputs": [
    {
     "name": "stdout",
     "output_type": "stream",
     "text": [
      "cpu\n"
     ]
    }
   ],
   "source": [
    "import torch\n",
    "import torch.nn as nn\n",
    "from torch.nn import functional as F\n",
    "\n",
    "device = 'cuda' if torch.cuda.is_available() else 'cpu'\n",
    "print(device)"
   ]
  },
  {
   "cell_type": "code",
   "execution_count": 2,
   "id": "4b6f0969-9fca-4af6-a997-a5217c4401c1",
   "metadata": {},
   "outputs": [
    {
     "name": "stdout",
     "output_type": "stream",
     "text": [
      "['\\n', ' ', '!', '\"', '&', \"'\", '(', ')', ',', '-', '.', '0', '1', '2', '3', '4', '5', '6', '7', '8', '9', ':', ';', '?', 'A', 'B', 'C', 'D', 'E', 'F', 'G', 'H', 'I', 'J', 'K', 'L', 'M', 'N', 'O', 'P', 'Q', 'R', 'S', 'T', 'U', 'V', 'W', 'X', 'Y', 'Z', '_', 'a', 'b', 'c', 'd', 'e', 'f', 'g', 'h', 'i', 'j', 'k', 'l', 'm', 'n', 'o', 'p', 'q', 'r', 's', 't', 'u', 'v', 'w', 'x', 'y', 'z']\n",
      "77\n"
     ]
    }
   ],
   "source": [
    "with open('dracula.txt', 'r', encoding='utf-8') as f:\n",
    "    text = f.read()\n",
    "chars = sorted(set(text))\n",
    "print(chars)\n",
    "print(len(chars))\n",
    "vocab_size = len(chars)"
   ]
  },
  {
   "cell_type": "code",
   "execution_count": 3,
   "id": "f2678ac8-219d-4c94-a79b-c766781f3d24",
   "metadata": {},
   "outputs": [
    {
     "name": "stdout",
     "output_type": "stream",
     "text": [
      "[27, 41, 24, 26, 44, 35, 24, 0, 0, 52, 75, 0, 0, 25, 68, 51, 63, 1, 42, 70, 65, 61, 55, 68, 0, 0, 0, 12, 19, 20, 18, 1, 55, 54, 59, 70, 59, 65, 64, 0, 0, 0, 0, 0, 43, 24, 25, 35, 28, 1, 38, 29, 1, 26, 38, 37, 43, 28, 37, 43, 42, 0, 0, 0, 26, 31, 24, 39, 43, 28, 41, 0, 0, 1, 1, 12, 1, 1, 33, 65, 64, 51, 70, 58, 51, 64, 1, 31, 51, 68, 61, 55, 68, 5, 69, 1, 33, 65, 71, 68, 64, 51, 62, 0, 1, 1, 13, 1, 1, 33, 65, 64, 51, 70, 58, 51, 64, 1, 31, 51, 68, 61, 55, 68, 5, 69, 1, 33, 65, 71, 68, 64, 51, 62, 0, 1, 1, 14, 1, 1, 33, 65, 64, 51, 70, 58, 51, 64, 1, 31, 51, 68, 61, 55, 68, 5, 69, 1, 33, 65, 71, 68, 64, 51, 62, 0, 1, 1, 15, 1, 1, 33, 65, 64, 51, 70, 58, 51, 64, 1, 31, 51, 68, 61, 55, 68, 5, 69, 1, 33, 65, 71, 68, 64, 51, 62, 0, 1, 1, 16]\n",
      "tensor([27, 41, 24, 26, 44, 35, 24,  0,  0, 52, 75,  0,  0, 25, 68, 51, 63,  1,\n",
      "        42, 70, 65, 61, 55, 68,  0,  0,  0, 12, 19, 20, 18,  1, 55, 54, 59, 70,\n",
      "        59, 65, 64,  0,  0,  0,  0,  0, 43, 24, 25, 35, 28,  1, 38, 29,  1, 26,\n",
      "        38, 37, 43, 28, 37, 43, 42,  0,  0,  0, 26, 31, 24, 39, 43, 28, 41,  0,\n",
      "         0,  1,  1, 12,  1,  1, 33, 65, 64, 51, 70, 58, 51, 64,  1, 31, 51, 68,\n",
      "        61, 55, 68,  5, 69,  1, 33, 65, 71, 68, 64, 51, 62,  0,  1,  1, 13,  1,\n",
      "         1, 33, 65, 64, 51, 70, 58, 51, 64,  1, 31, 51, 68, 61, 55, 68,  5, 69,\n",
      "         1, 33, 65, 71, 68, 64, 51, 62,  0,  1,  1, 14,  1,  1, 33, 65, 64, 51,\n",
      "        70, 58, 51, 64,  1, 31, 51, 68, 61, 55, 68,  5, 69,  1, 33, 65, 71, 68,\n",
      "        64, 51, 62,  0,  1,  1, 15,  1,  1, 33, 65, 64, 51, 70, 58, 51, 64,  1,\n",
      "        31, 51, 68, 61, 55, 68,  5, 69,  1, 33, 65, 71, 68, 64, 51, 62,  0,  1,\n",
      "         1, 16])\n"
     ]
    }
   ],
   "source": [
    "string_to_int = { ch:i for i, ch in enumerate(chars)}\n",
    "int_to_string = { i:ch for i, ch in enumerate(chars)}\n",
    "encode = lambda s: [string_to_int[c] for c in s]\n",
    "decode = lambda l: ''.join([int_to_string[i] for i in l])\n",
    "\n",
    "encoded_text = encode(text[:200])\n",
    "decoded_text = decode(encoded_text)\n",
    "print(encoded_text)\n",
    "data = torch.tensor(encode(text), dtype=torch.long)\n",
    "print(data[:200])"
   ]
  },
  {
   "cell_type": "code",
   "execution_count": 4,
   "id": "2a89af85-fd9b-468d-81a7-1891795405db",
   "metadata": {},
   "outputs": [
    {
     "name": "stdout",
     "output_type": "stream",
     "text": [
      "inputs:\n",
      "tensor([[64, 65, 70,  1, 59, 70, 10,  1],\n",
      "        [63, 69,  8,  1, 56, 68, 65, 63],\n",
      "        [54,  1, 54, 51, 63, 66, 62, 75],\n",
      "        [68,  1, 73, 55, 68, 55,  1, 64]])\n",
      "targets:\n",
      "tensor([[65, 70,  1, 59, 70, 10,  1,  1],\n",
      "        [69,  8,  1, 56, 68, 65, 63,  1],\n",
      "        [ 1, 54, 51, 63, 66, 62, 75,  1],\n",
      "        [ 1, 73, 55, 68, 55,  1, 64, 65]])\n"
     ]
    }
   ],
   "source": [
    "n = int(0.8*len(text))\n",
    "train = data[:n]\n",
    "val = data[n:]\n",
    "block_size = 8\n",
    "batch_size = 4\n",
    "max_iters = 10000\n",
    "learning_rate = 3e-4\n",
    "eval_iter = 250\n",
    "dropout = 0.2\n",
    "\n",
    "def get_batch(split):\n",
    "    data = train if split == 'train' else val\n",
    "    ix = torch.randint(len(data) - block_size, (batch_size,))\n",
    "    # print(ix)\n",
    "    x = torch.stack([data[i:i+block_size] for i in ix])\n",
    "    y = torch.stack([data[i+1:i+block_size+1] for i in ix])\n",
    "    x, y = x.to(device), y.to(device)\n",
    "    return(x,y)\n",
    "\n",
    "x, y = get_batch('train')\n",
    "print('inputs:')\n",
    "print(x)\n",
    "print('targets:')\n",
    "print(y)"
   ]
  },
  {
   "cell_type": "code",
   "execution_count": 5,
   "id": "1da059d0-dbcd-42b0-9af7-01193dd84c21",
   "metadata": {},
   "outputs": [],
   "source": [
    "@torch.no_grad()\n",
    "def estimate_loss():\n",
    "    out = {}\n",
    "    model.eval()\n",
    "    for split in ['train', 'val']:\n",
    "        losses = torch.zeros(eval_iters)\n",
    "        for k in range(eval_iters):\n",
    "            X, Y = get_batch(split)\n",
    "            logits, loss = model(X, Y)\n",
    "            losses[k] = loss.item()\n",
    "        out[split] = losses.mean()\n",
    "    model.train()\n",
    "    return out"
   ]
  },
  {
   "cell_type": "code",
   "execution_count": 6,
   "id": "cb9aa1cc-6501-4f1e-9844-fffd3fb7952b",
   "metadata": {},
   "outputs": [
    {
     "name": "stdout",
     "output_type": "stream",
     "text": [
      "\n",
      "w.w-bV(g u\",tLsF-:3mrRnp4QmMEEFq&pSK4l3ttjOR1ioD(-\n",
      "wCDFgoq-\n",
      "fVH7nskZG)V1QYm)Y.kfd'K&h qsPP0b\n",
      "D2ys6'Lci83L'd\"_3_s\n",
      "en0ee)_EXa-lu\n",
      "OVZbTu\"BMsFg0Iwf'1D_iLHFeG8;mb GOV1iErM2GCtPjo1mK3x7;N;,ViL\"SEPRgfRR_:whV(-!H?rq?PQrOVsHH;-i?POS\"\"2MzfX?N4BU4'jcH \n",
      "XQjgYyKjwMWD_uQ.8o\n",
      "!mRd7Y6jOW3G:!xo!(UIm4:tLJa?&X1sk?CxvMIV1!z6zByadgYoO\"kqb.AKAR5DxfT:uVHIwWjCdRFyaVXz':)uWjO0!Y I\n",
      "d\"MdiY\"Te7v3RAO?Za.fFrR \n",
      "4 dR5DnI,w8j(ne.BpdKDQK;zVe5suU&2RwKGmhxf7Ksp,XQyMdgUKP!qXQUU9ixGC6&aPBNTKoC68!WVqJvkYbGTW'e5.AYyd,3.Z2ka-gxuJd\"\"l1gf\n"
     ]
    }
   ],
   "source": [
    "class BigramLanguageModel(nn.Module):\n",
    "    def __init__(self, vocab_size):\n",
    "        super().__init__()\n",
    "        self.token_embedding_table = nn.Embedding(vocab_size, vocab_size)\n",
    "        \n",
    "    def forward(self, index, targets=None):\n",
    "        logits = self.token_embedding_table(index)\n",
    "        \n",
    "        \n",
    "        if targets is None:\n",
    "            loss = None\n",
    "        else:\n",
    "            B, T, C = logits.shape\n",
    "            logits = logits.view(B*T, C)\n",
    "            targets = targets.view(B*T)\n",
    "            loss = F.cross_entropy(logits, targets)\n",
    "        \n",
    "        return logits, loss\n",
    "    \n",
    "    def generate(self, index, max_new_tokens):\n",
    "        # index is (B, T) array of indices in the current context\n",
    "        for _ in range(max_new_tokens):\n",
    "            # get the predictions\n",
    "            logits, loss = self.forward(index)\n",
    "            # focus only on the last time step\n",
    "            logits = logits[:, -1, :] # becomes (B, C)\n",
    "            # apply softmax to get probabilities\n",
    "            probs = F.softmax(logits, dim=-1) # (B, C)\n",
    "            # sample from the distribution\n",
    "            index_next = torch.multinomial(probs, num_samples=1) # (B, 1)\n",
    "            # append sampled index to the running sequence\n",
    "            index = torch.cat((index, index_next), dim=1) # (B, T+1)\n",
    "        return index\n",
    "\n",
    "model = BigramLanguageModel(vocab_size)\n",
    "m = model.to(device)\n",
    "\n",
    "context = torch.zeros((1,1), dtype=torch.long, device=device)\n",
    "generated_chars = decode(m.generate(context, max_new_tokens=500)[0].tolist())\n",
    "print(generated_chars)"
   ]
  },
  {
   "cell_type": "code",
   "execution_count": 1,
   "id": "eff74343-33ba-480b-bb79-2111775d2153",
   "metadata": {
    "scrolled": true
   },
   "outputs": [
    {
     "ename": "NameError",
     "evalue": "name 'torch' is not defined",
     "output_type": "error",
     "traceback": [
      "\u001b[1;31m---------------------------------------------------------------------------\u001b[0m",
      "\u001b[1;31mNameError\u001b[0m                                 Traceback (most recent call last)",
      "Cell \u001b[1;32mIn[1], line 3\u001b[0m\n\u001b[0;32m      1\u001b[0m \u001b[38;5;66;03m# create a PyTourch optimiser\u001b[39;00m\n\u001b[1;32m----> 3\u001b[0m optimizer \u001b[38;5;241m=\u001b[39m \u001b[43mtorch\u001b[49m\u001b[38;5;241m.\u001b[39moptim\u001b[38;5;241m.\u001b[39mAdamW(model\u001b[38;5;241m.\u001b[39mparameters(), lr\u001b[38;5;241m=\u001b[39mlearning_rate)\n\u001b[0;32m      4\u001b[0m \u001b[38;5;28;01mfor\u001b[39;00m \u001b[38;5;28miter\u001b[39m \u001b[38;5;129;01min\u001b[39;00m \u001b[38;5;28mrange\u001b[39m(max_iters):\n\u001b[0;32m      5\u001b[0m     \u001b[38;5;28;01mif\u001b[39;00m \u001b[38;5;28miter\u001b[39m \u001b[38;5;241m%\u001b[39m eval_iter \u001b[38;5;241m==\u001b[39m\u001b[38;5;241m0\u001b[39m:\n",
      "\u001b[1;31mNameError\u001b[0m: name 'torch' is not defined"
     ]
    }
   ],
   "source": [
    "# create a PyTourch optimiser\n",
    "\n",
    "optimizer = torch.optim.AdamW(model.parameters(), lr=learning_rate)\n",
    "for iter in range(max_iters):\n",
    "    if iter % eval_iter ==0:\n",
    "        losses = estimate_loss()\n",
    "        print(f\"step:{iter}, train loss: {losses['train']:.3f}, val loss: {losses['val']:.3f}\")\n",
    "    #sample a batch of data\n",
    "    xb, yb = get_batch('train')\n",
    "\n",
    "    # evaluate the loss\n",
    "    logits, loss = model.forward(xb, yb)\n",
    "    optimizer.zero_grad(set_to_none=True)\n",
    "    loss.backward()\n",
    "    optimizer.step()\n",
    "\n",
    "print(loss.item())"
   ]
  },
  {
   "cell_type": "code",
   "execution_count": null,
   "id": "c727f4e7-13a4-4f31-8424-1f792f6ced97",
   "metadata": {},
   "outputs": [],
   "source": [
    "context = torch.zeros((1,1), dtype=torch.long, device=device)\n",
    "generated_chars = decode(m.generate(context, max_new_tokens=1000)[0].tolist())\n",
    "print(generated_chars)"
   ]
  },
  {
   "cell_type": "code",
   "execution_count": null,
   "id": "75ea8d45-379f-4324-bff8-29fea25c7e06",
   "metadata": {},
   "outputs": [],
   "source": [
    "# Mean Squared Error (MSE): MSE is a common loss function used in regression problems, where the goal is to predict a continuous output. It measures the average squared difference between the predicted and actual values, and is often used to train neural networks for regression tasks.\n",
    "# Gradient Descent (GD): is an optimization algorithm used to minimize the loss function of a machine learning model. The loss function measures how well the model is able to predict the target variable based on the input features. The idea of GD is to iteratively adjust the model parameters in the direction of the steepest descent of the loss function\n",
    "# Momentum: Momentum is an extension of SGD that adds a \"momentum\" term to the parameter updates. This term helps smooth out the updates and allows the optimizer to continue moving in the right direction, even if the gradient changes direction or varies in magnitude. Momentum is particularly useful for training deep neural networks.\n",
    "# RMSprop: RMSprop is an optimization algorithm that uses a moving average of the squared gradient to adapt the learning rate of each parameter. This helps to avoid oscillations in the parameter updates and can improve convergence in some cases.\n",
    "# Adam: Adam is a popular optimization algorithm that combines the ideas of momentum and RMSprop. It uses a moving average of both the gradient and its squared value to adapt the learning rate of each parameter. Adam is often used as a default optimizer for deep learning models.\n",
    "# AdamW: AdamW is a modification of the Adam optimizer that adds weight decay to the parameter updates. This helps to regularize the model and can improve generalization performance. We will be using the AdamW optimizer as it best suits the properties of the model we will train in this video."
   ]
  },
  {
   "cell_type": "code",
   "execution_count": null,
   "id": "789d22e7-d447-492a-ae3e-119af6051435",
   "metadata": {},
   "outputs": [],
   "source": []
  },
  {
   "cell_type": "code",
   "execution_count": null,
   "id": "70cd8ea3-f368-472b-87df-02bfac76c4c7",
   "metadata": {},
   "outputs": [],
   "source": []
  },
  {
   "cell_type": "code",
   "execution_count": null,
   "id": "4e262098-7311-438b-af77-b9d3c4bc5e3f",
   "metadata": {},
   "outputs": [],
   "source": []
  }
 ],
 "metadata": {
  "kernelspec": {
   "display_name": "CUDA",
   "language": "python",
   "name": "cuda"
  },
  "language_info": {
   "codemirror_mode": {
    "name": "ipython",
    "version": 3
   },
   "file_extension": ".py",
   "mimetype": "text/x-python",
   "name": "python",
   "nbconvert_exporter": "python",
   "pygments_lexer": "ipython3",
   "version": "3.10.11"
  }
 },
 "nbformat": 4,
 "nbformat_minor": 5
}
