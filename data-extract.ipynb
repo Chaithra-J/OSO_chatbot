{
 "cells": [
  {
   "cell_type": "code",
   "execution_count": 1,
   "id": "051cf173-911e-4c95-aec8-c6dd4ca6e124",
   "metadata": {},
   "outputs": [],
   "source": [
    "from tqdm import tqdm\n",
    "import os\n",
    "import lzma"
   ]
  },
  {
   "cell_type": "code",
   "execution_count": 2,
   "id": "796e5af4-da0a-43b6-8311-5feffb9678d4",
   "metadata": {},
   "outputs": [],
   "source": [
    "def xz_files_in_dir(directory):\n",
    "    files = []\n",
    "    for filename in os.listdir(directory):\n",
    "        if filename.endswith(\".xz\") and os.path.isfile(os.path.join(directory, filename)):\n",
    "            files.append(filename)\n",
    "    return files\n",
    "\n",
    "folder_path = \"openwebtext\"\n",
    "output_file_train = \"output_train.txt\"\n",
    "output_file_val = \"output_val.txt\"\n",
    "vocab_file = \"vocab.txt\"\n",
    "# split_files = int(input(\"How many files would you like to split this into?\"))"
   ]
  },
  {
   "cell_type": "code",
   "execution_count": 3,
   "id": "7022b81f-452b-414c-a5a0-5ca354982339",
   "metadata": {},
   "outputs": [
    {
     "name": "stderr",
     "output_type": "stream",
     "text": [
      "100%|██████████| 775/775 [01:16<00:00, 10.07it/s]\n",
      "100%|██████████| 87/87 [00:08<00:00,  9.77it/s]\n"
     ]
    }
   ],
   "source": [
    "files = xz_files_in_dir(folder_path)\n",
    "\n",
    "total_files = len(files)\n",
    "\n",
    "split_index = int(total_files * 0.9)\n",
    "files_train = files[:split_index]\n",
    "files_val = files[split_index:]\n",
    "\n",
    "vocab = set()\n",
    "\n",
    "with open(output_file_train, \"w\", encoding = \"utf-8\") as outfile:\n",
    "    for filename in tqdm(files_train, total = len(files_train)):\n",
    "        file_path = os.path.join(folder_path, filename)\n",
    "        with lzma.open(file_path, \"rt\", encoding=\"utf-8\") as infile:\n",
    "            text = infile.read()\n",
    "            outfile.write(text)\n",
    "            characters = set(text)\n",
    "            vocab.update(characters)\n",
    "\n",
    "with open(output_file_val, \"w\", encoding = \"utf-8\") as outfile:\n",
    "    for filename in tqdm(files_val, total = len(files_val)):\n",
    "        file_path = os.path.join(folder_path, filename)\n",
    "        with lzma.open(file_path, \"rt\", encoding=\"utf-8\") as infile:\n",
    "            text = infile.read()\n",
    "            outfile.write(text)\n",
    "            characters = set(text)\n",
    "            vocab.update(characters)\n",
    "\n",
    "# for i in range(split_files):\n",
    "#     with open(output_file.format(i), \"w\", encoding=\"utf-8\") as outfile:\n",
    "#         for count, filename in enumerate(tqdm(files[:max_count], total=max_count)):\n",
    "#             if count >= max_count:\n",
    "#                 break\n",
    "#             file_path = os.path.join(folder_path, filename)\n",
    "#             with lzma.open(file_path, \"rt\", encoding=\"utf-8\") as infile:\n",
    "#                 text = infile.read()\n",
    "#                 outfile.write(text)\n",
    "#                 characters = set(text)\n",
    "#                 vocab.update(characters)\n",
    "#         files = files[max_count:]\n",
    "with open(vocab_file, \"w\", encoding=\"utf-8\") as vfile:\n",
    "    for char in vocab:\n",
    "        vfile.write(char + '\\n')"
   ]
  },
  {
   "cell_type": "code",
   "execution_count": null,
   "id": "22223319-9ac7-44f2-8458-2ad0b57b97a3",
   "metadata": {},
   "outputs": [],
   "source": []
  },
  {
   "cell_type": "code",
   "execution_count": 4,
   "id": "1bcda1b8-7e65-45b4-a395-40979e15393d",
   "metadata": {},
   "outputs": [],
   "source": [
    "def process_files_in_parallel(files, folder_path, output_file):\n",
    "    vocab = set()\n",
    "    with concurrent.futures.ProcessPoolExecutor(max_workers=cpu_count()) as executor:\n",
    "        args = [(folder_path, filename, output_file, vocab) for filename in files]\n",
    "        for characters in tqdm(executor.map(process_file, args), total=len(files)):\n",
    "            vocab.update(characters)\n",
    "    return vocab"
   ]
  },
  {
   "cell_type": "code",
   "execution_count": 6,
   "id": "4954afb9-783b-4c4e-963c-7ff022d2d250",
   "metadata": {},
   "outputs": [
    {
     "name": "stderr",
     "output_type": "stream",
     "text": [
      "0it [00:00, ?it/s]\n",
      "0it [00:00, ?it/s]\n"
     ]
    }
   ],
   "source": [
    "folder_path = \"openwebtext\"\n",
    "output_file_train = \"output_train.txt\"\n",
    "output_file_val = \"output_val.txt\"\n",
    "vocab_file = \"vocab.txt\"\n",
    "\n",
    "files = xz_files_in_dir(folder_path)\n",
    "total_files = len(files)\n",
    "\n",
    "split_index = int(total_files * 0.9)  # 90% for training\n",
    "files_train = files[:split_index]\n",
    "files_val = files[split_index:]\n",
    "\n",
    "# Ensure output files are empty before appending\n",
    "open(output_file_train, 'w').close()\n",
    "open(output_file_val, 'w').close()\n",
    "\n",
    "# Process the training files\n",
    "vocab_train = process_files_in_parallel(files_train, folder_path, output_file_train)\n",
    "\n",
    "# Process the validation files\n",
    "vocab_val = process_files_in_parallel(files_val, folder_path, output_file_val)\n",
    "\n",
    "# Combine vocabularies (if needed) and write to vocab.txt\n",
    "vocab = vocab_train.union(vocab_val)\n",
    "with open(vocab_file, \"w\", encoding=\"utf-8\") as vfile:\n",
    "    for char in sorted(vocab):\n",
    "        vfile.write(char + '\\n')"
   ]
  },
  {
   "cell_type": "code",
   "execution_count": null,
   "id": "023f0820-f9f8-41d9-a994-5d76156093d6",
   "metadata": {},
   "outputs": [],
   "source": []
  }
 ],
 "metadata": {
  "kernelspec": {
   "display_name": "CUDA",
   "language": "python",
   "name": "cuda"
  },
  "language_info": {
   "codemirror_mode": {
    "name": "ipython",
    "version": 3
   },
   "file_extension": ".py",
   "mimetype": "text/x-python",
   "name": "python",
   "nbconvert_exporter": "python",
   "pygments_lexer": "ipython3",
   "version": "3.10.11"
  }
 },
 "nbformat": 4,
 "nbformat_minor": 5
}
